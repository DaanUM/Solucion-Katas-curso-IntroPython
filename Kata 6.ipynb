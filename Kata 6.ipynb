{
 "cells": [
  {
   "cell_type": "markdown",
   "metadata": {},
   "source": [
    "KATA 6.\n",
    "LISTAS  "
   ]
  },
  {
   "cell_type": "code",
   "execution_count": 3,
   "metadata": {},
   "outputs": [
    {
     "name": "stdout",
     "output_type": "stream",
     "text": [
      "La lista de planetas esta conformada por : 8 planetas, los cuales son:  ['Mercurio', 'Venus', 'Tierra', 'Marte', 'Júpiter', 'Saturno', 'Urano', 'Neptuno']\n",
      "El sistema solar esta formado por los siguientes planetas:\n",
      " ['Mercurio', 'Venus', 'Tierra', 'Marte', 'Júpiter', 'Saturno', 'Urano', 'Neptuno', 'Pluton']\n"
     ]
    }
   ],
   "source": [
    "#Ejercicio 1. Listas\n",
    "\n",
    "#Crear una lista\n",
    "planets = ['Mercurio','Venus','Tierra','Marte','Júpiter','Saturno', 'Urano', 'Neptuno']\n",
    "num_planets = len(planets)\n",
    "print('La lista de planetas esta conformada por :',num_planets, 'planetas, los cuales son: ',planets)\n",
    "\n",
    "#Agregar un nuevo planeta\n",
    "planets.append('Pluton')\n",
    "print('El sistema solar esta formado por los siguientes planetas:\\n',planets)"
   ]
  },
  {
   "cell_type": "code",
   "execution_count": 4,
   "metadata": {},
   "outputs": [
    {
     "name": "stdout",
     "output_type": "stream",
     "text": [
      "Los planetas más cercanos al sol son:  ['Mercurio', 'Venus', 'Tierra']\n",
      "Los planetas más lejanos al sol son:   ['Júpiter', 'Saturno', 'Urano', 'Neptuno']\n"
     ]
    }
   ],
   "source": [
    "#Ejercicio 2. Manipular datos en lista\n",
    "#Crear una lista\n",
    "planetas = ['Mercurio','Venus','Tierra','Marte','Júpiter','Saturno', 'Urano', 'Neptuno']\n",
    "\n",
    "#Buscar planeta\n",
    "busqueda = input('Ingresar el nombre del planeta que desea buscar (con mayuscula al inicio): ')\n",
    "planetaX = planetas.index(busqueda)\n",
    "print('Los planetas más cercanos al sol son: ',planetas[0:planetaX])\n",
    "print('Los planetas más lejanos al sol son:  ',planetas[planetaX + 1:])\n"
   ]
  }
 ],
 "metadata": {
  "interpreter": {
   "hash": "5201d93b4a82a3c766e68988a6e9713323d3e750fa235383633dfba5706e0261"
  },
  "kernelspec": {
   "display_name": "Python 3.10.2 64-bit (windows store)",
   "language": "python",
   "name": "python3"
  },
  "language_info": {
   "codemirror_mode": {
    "name": "ipython",
    "version": 3
   },
   "file_extension": ".py",
   "mimetype": "text/x-python",
   "name": "python",
   "nbconvert_exporter": "python",
   "pygments_lexer": "ipython3",
   "version": "3.10.2"
  },
  "orig_nbformat": 4
 },
 "nbformat": 4,
 "nbformat_minor": 2
}
