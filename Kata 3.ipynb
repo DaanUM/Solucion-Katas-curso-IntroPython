{
  "cells": [
    {
      "cell_type": "markdown",
      "metadata": {},
      "source": [
        "KATA 3\n"
      ]
    },
    {
      "cell_type": "code",
      "execution_count": 5,
      "metadata": {},
      "outputs": [
        {
          "name": "stdout",
          "output_type": "stream",
          "text": [
            "¡ALERTA!¡Busca refugio, un asteroide se acerca peligrosamente a la tierra!\n"
          ]
        }
      ],
      "source": [
        "#Ejercicio 1. Velocidad asteroide\n",
        "asteroide = 49  #Velocidad del asteoride 49 Km/s\n",
        "if asteroide > 25:     #Velocidades que represetan una amenza\n",
        "    print ('¡ALERTA!¡Busca refugio, un asteroide se acerca peligrosamente a la tierra!')\n",
        "else:\n",
        "    print ('Disfruta tu día, no hay peligro espacial')"
      ]
    },
    {
      "cell_type": "code",
      "execution_count": 4,
      "metadata": {},
      "outputs": [
        {
          "name": "stdout",
          "output_type": "stream",
          "text": [
            "¡Mira el cielo! Busca el rayo luminoso\n"
          ]
        }
      ],
      "source": [
        "#Ejercicio 2. Velocidad asteroide\n",
        "asteroide = 24  #Velocidad del asteroide 24 Km/s.\n",
        "if asteroide > 20:\n",
        "    print ('¡Mira el cielo! Busca el rayo luminoso.')\n",
        "elif asteroide == 20:\n",
        "    print ('¡Mira el cielo! Busca el rayo luminoso.')\n",
        "else:\n",
        "    print ('Sin nada que mirar')"
      ]
    },
    {
      "cell_type": "code",
      "execution_count": null,
      "metadata": {},
      "outputs": [
        {
          "name": "stdout",
          "output_type": "stream",
          "text": [
            "¡ALERTA!¡Busca refugio, un asteroide se acerca peligrosamente a la tierra!\n"
          ]
        }
      ],
      "source": [
        "#Ejercicio 3. Velocidad y tamaño asteroide \n",
        "asteroideVelocidad = 25\n",
        "asteroideTamano = 40\n",
        "if asteroideVelocidad > 25 and asteroideTamano > 25:\n",
        "    print ('¡ALERTA!¡Busca refugio, un asteroide se acerca peligrosamente a la tierra!')\n",
        "\n",
        "elif asteroideVelocidad >= 20:\n",
        "    print('Mira el cielo, Busca el rayo luminoso.')\n",
        "elif asteroideTamano < 25 :\n",
        "    print('Sin espectaculos en el cielo.')\n",
        "else:\n",
        "    print ('Sin espectaculos en el cielo.')"
      ]
    }
  ],
  "metadata": {
    "interpreter": {
      "hash": "669f5abd92f1a410df15b0643b9f42360e277a412fc08ae8bc7d7911cf7e8f3d"
    },
    "kernelspec": {
      "display_name": "Python 3.10.2 64-bit",
      "language": "python",
      "name": "python3"
    },
    "language_info": {
      "codemirror_mode": {
        "name": "ipython",
        "version": 3
      },
      "file_extension": ".py",
      "mimetype": "text/x-python",
      "name": "python",
      "nbconvert_exporter": "python",
      "pygments_lexer": "ipython3",
      "version": "3.10.2"
    },
    "orig_nbformat": 4
  },
  "nbformat": 4,
  "nbformat_minor": 2
}
