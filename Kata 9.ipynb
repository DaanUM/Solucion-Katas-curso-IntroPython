{
 "cells": [
  {
   "cell_type": "markdown",
   "metadata": {},
   "source": [
    "KATA 9.\n"
   ]
  },
  {
   "cell_type": "code",
   "execution_count": 15,
   "metadata": {},
   "outputs": [
    {
     "name": "stdout",
     "output_type": "stream",
     "text": [
      "******Reporte******\n",
      "    Total de combustible: 68.33333333333333 %\n",
      "    Porcentaje tanque 1: 80 %\n",
      "    Porcentaje tanque 2: 70 %\n",
      "    Porcentaje tanque 3: 55 %\n",
      "    \n",
      "******Reporte******\n",
      "    Total de combustible: 68.33333333333333 %\n",
      "    Porcentaje tanque 1: 80 %\n",
      "    Porcentaje tanque 2: 70 %\n",
      "    Porcentaje tanque 3: 55 %\n",
      "    \n"
     ]
    }
   ],
   "source": [
    "#Ejercicio 1. Funciones\n",
    "#Definimos la funcion\n",
    "\n",
    "def Combustible (TanqueUno, TanqueDos, TanqueTres):\n",
    "    promedio = (TanqueUno + TanqueDos + TanqueTres) / 3\n",
    "    return    f\"\"\"******Reporte******\n",
    "    Total de combustible: {promedio} %\n",
    "    Porcentaje tanque 1: {TanqueUno} %\n",
    "    Porcentaje tanque 2: {TanqueDos} %\n",
    "    Porcentaje tanque 3: {TanqueTres} %\n",
    "    \"\"\"\n",
    "\n",
    "print(Combustible(80,70,55))\n",
    "\n",
    "#Definimos funcion de promedio\n",
    "def promedio (valores):\n",
    "    subtotal = sum(valores)\n",
    "    numeroValores = len(valores)\n",
    "    return subtotal / numeroValores\n",
    "\n",
    "\n",
    "#Actualizamos la primera funcion\n",
    "def Combustible (TanqueUno, TanqueDos, TanqueTres):\n",
    "    return    f\"\"\"******Reporte******\n",
    "    Total de combustible: {promedio([TanqueUno,TanqueDos,TanqueTres])} %\n",
    "    Porcentaje tanque 1: {TanqueUno} %\n",
    "    Porcentaje tanque 2: {TanqueDos} %\n",
    "    Porcentaje tanque 3: {TanqueTres} %\n",
    "    \"\"\"\n",
    "print(Combustible(80,70,55))\n"
   ]
  },
  {
   "cell_type": "code",
   "execution_count": 5,
   "metadata": {},
   "outputs": [
    {
     "name": "stdout",
     "output_type": "stream",
     "text": [
      "******************************************************************************** \n",
      "    REPORTE DE MISÓN\n",
      "    Destino: Luna \n",
      "    Tiempo de misión: 84 min\n",
      "    Porcentaje de combustible: 75.0 %\n",
      "******************************************************************************** \n",
      "    REPORTE DE MISÓN\n",
      "    Destino: Luna\n",
      "    Hora de lanzamiento: 1300 hrs\n",
      "    Tiempo de misión: 180 min\n",
      "    Combustible disponible: 80000 L\n",
      "******************************************************************************** \n",
      "    REPORTE DE MISÓN\n",
      "    Destino: Luna\n",
      "    Hora de lanzamiento: 1300 hrs\n",
      "    Tiempo de misión: 180 min\n",
      "    Combustible disponible: 80000 \n",
      "    El tanque de Hidrogeno contiene 10000 Litros\n",
      "\n"
     ]
    }
   ],
   "source": [
    "#Ejercicio 2. Funcion con argumentos de palabra clave\n",
    "\n",
    "def reporteMision (prelanzamiento, tVuelo, destino, tanqueExterno, tanqueInterno):\n",
    "    return f\"\"\"{'*'*80} \n",
    "    REPORTE DE MISÓN\n",
    "    Destino: {destino} \n",
    "    Tiempo de misión: {prelanzamiento + tVuelo} min\n",
    "    Porcentaje de combustible: {(tanqueExterno + tanqueInterno ) / 2} %\"\"\"\n",
    "\n",
    "\n",
    "print(reporteMision(24,60,'Luna',80,70 ))\n",
    "\n",
    "#Crear funcion más flexible en los argumentos de la misma.\n",
    "\n",
    "def reporteMision (lanzamiento,  destino, *tVuelo, **dCombustible):\n",
    "    return f\"\"\"{'*'*80} \n",
    "    REPORTE DE MISÓN\n",
    "    Destino: {destino}\n",
    "    Hora de lanzamiento: {lanzamiento} hrs\n",
    "    Tiempo de misión: {sum(tVuelo)} min\n",
    "    Combustible disponible: {sum(dCombustible.values())} L\"\"\"\n",
    "\n",
    "\n",
    "print(reporteMision(1300,'Luna',80,70,30,Hidrogeno=10000,Oxigeno=70000 ))\n",
    "\n",
    "#Creación de función que indica la capacidad de los tanques.\n",
    "\n",
    "def reporteMision (lanzamiento,  destino, *tVuelo, **dCombustible):\n",
    "    dataMision = f\"\"\"{'*'*80} \n",
    "    REPORTE DE MISÓN\n",
    "    Destino: {destino}\n",
    "    Hora de lanzamiento: {lanzamiento} hrs\n",
    "    Tiempo de misión: {sum(tVuelo)} min\n",
    "    Combustible disponible: {sum(dCombustible.values())} L\n",
    "    \"\"\"\n",
    "    for nombreT, litros in dCombustible.items():\n",
    "        dataMision += f\"El tanque de {nombreT} contiene {litros} Litros\\n\"\n",
    "        return dataMision \n",
    "\n",
    "print(reporteMision(1300,'Luna',80,70,30,Hidrogeno=10000,Oxigeno=70000 ))\n"
   ]
  }
 ],
 "metadata": {
  "interpreter": {
   "hash": "5201d93b4a82a3c766e68988a6e9713323d3e750fa235383633dfba5706e0261"
  },
  "kernelspec": {
   "display_name": "Python 3.10.2 64-bit (windows store)",
   "language": "python",
   "name": "python3"
  },
  "language_info": {
   "codemirror_mode": {
    "name": "ipython",
    "version": 3
   },
   "file_extension": ".py",
   "mimetype": "text/x-python",
   "name": "python",
   "nbconvert_exporter": "python",
   "pygments_lexer": "ipython3",
   "version": "3.10.2"
  },
  "orig_nbformat": 4
 },
 "nbformat": 4,
 "nbformat_minor": 2
}
