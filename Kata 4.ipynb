{
 "cells": [
  {
   "cell_type": "markdown",
   "metadata": {},
   "source": [
    "KATA 4."
   ]
  },
  {
   "cell_type": "code",
   "execution_count": 3,
   "metadata": {},
   "outputs": [
    {
     "name": "stdout",
     "output_type": "stream",
     "text": [
      "On average, the Moon moves 4cm away from the Earth every year\n",
      "Interesting facts about the Moon\n",
      "The Moon is Earth's only satellite\n",
      "There are several interesting facts about the Moon and how it affects life here on Earth\n",
      "On average, the Moon moves 4cm away from the Earth every year\n",
      "This yearly drift is not significant enough to cause immediate effects on Earth\n",
      "The highest dayligh \n"
     ]
    }
   ],
   "source": [
    "#Ejercicio 1. Insertar saltos de linea\n",
    "text = \"\"\"Interesting facts about the Moon. The Moon is Earth's only satellite. There are several interesting facts about the Moon and how it affects life here on Earth. On average, the Moon moves 4cm away from the Earth every year. This yearly drift is not significant enough to cause immediate effects on Earth. The highest dayligh \"\"\"\n",
    "textParts = text.split('. ') #Dividir el texto despues del punto\n",
    "textParts\n",
    "\n",
    "#Buscar palabras clave\n",
    "palabrasClave = [\"average\",\"temperature\",\"distance\"]\n",
    "for i in textParts:\n",
    "    for Clave in palabrasClave:\n",
    "        if Clave in i:\n",
    "            print(i)\n",
    "        break\n",
    "\n",
    "#Sustituir C por Celsius\n",
    "\n",
    "for i in textParts:\n",
    "    print(i.replace('C', 'Celsius'))\n",
    "\n"
   ]
  },
  {
   "cell_type": "code",
   "execution_count": 11,
   "metadata": {},
   "outputs": [
    {
     "name": "stdout",
     "output_type": "stream",
     "text": [
      "Datos Sobre La Gravedad En Moon\n",
      "************************************************************\n",
      "Nombre del planeta: Earth\n",
      "Gravedad en Moon: 1.6199999999999999 m/s\n",
      "\n",
      "Datos sobre la gravedad en Ganímedes\n",
      "************************************************************\n",
      "Nombre del planeta: Marte\n",
      "Gravedad en Ganímedes: 1.4300000000000002 m/s\n",
      "\n"
     ]
    }
   ],
   "source": [
    "#Ejercicio 2. Formateado Cadenas\n",
    "\n",
    "#Datos\n",
    "name = \"Moon\"\n",
    "gravity = 0.00162 # en Km/s\n",
    "planet = \"Earth\"\n",
    "\n",
    "\n",
    "#Establecer titulo\n",
    "titulo = f\"Datos sobre la gravedad en {name}\\n\"\n",
    "titulo.title()\n",
    "\n",
    "#Creear plantilla\n",
    "contenido = f\"\"\"{'*'*60}\n",
    "Nombre del planeta: {planet}\n",
    "Gravedad en {name}: {gravity*1000}{' m/s'}\"\"\"\n",
    "\n",
    "#Unir variables\n",
    "template = f\"\"\"{titulo.title()}{contenido}\"\"\"\n",
    "\n",
    "#Comprobar plantilla\n",
    "print(template)\n",
    "\n",
    "#Nuevos datos\n",
    "planeta = 'Marte'\n",
    "gravedad = 0.00143\n",
    "nombre = 'Ganímedes'\n",
    "\n",
    "#Crear nueva plantilla\n",
    "nuevaPlantilla = f\"\"\"\n",
    "Datos sobre la gravedad en {nombre}\n",
    "{'*'*60}\n",
    "Nombre del planeta: {planeta}\n",
    "Gravedad en {nombre}: {gravedad*1000} m/s\n",
    "\"\"\"\n",
    "\n",
    "#comprobar nueva plantilla\n",
    "print(nuevaPlantilla.format(nombre=name, gravedad=gravity, planeta=planet))"
   ]
  }
 ],
 "metadata": {
  "interpreter": {
   "hash": "5201d93b4a82a3c766e68988a6e9713323d3e750fa235383633dfba5706e0261"
  },
  "kernelspec": {
   "display_name": "Python 3.10.2 64-bit (windows store)",
   "language": "python",
   "name": "python3"
  },
  "language_info": {
   "codemirror_mode": {
    "name": "ipython",
    "version": 3
   },
   "file_extension": ".py",
   "mimetype": "text/x-python",
   "name": "python",
   "nbconvert_exporter": "python",
   "pygments_lexer": "ipython3",
   "version": "3.10.2"
  },
  "orig_nbformat": 4
 },
 "nbformat": 4,
 "nbformat_minor": 2
}
