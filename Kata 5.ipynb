{
 "cells": [
  {
   "cell_type": "markdown",
   "metadata": {},
   "source": [
    "KATA 5."
   ]
  },
  {
   "cell_type": "code",
   "execution_count": 1,
   "metadata": {},
   "outputs": [
    {
     "name": "stdout",
     "output_type": "stream",
     "text": [
      "La distancia entre la Tierra y Júpiter es:  628949330 km, o  390577533.93 millas en el sistema americano.\n"
     ]
    }
   ],
   "source": [
    "#Ejercicio 1. Aplicación de operadores aritméticos\n",
    "\n",
    "#Distacia planetas\n",
    "\n",
    "planetaTierra = 149597870\n",
    "planetaJupiter = 778547200\n",
    "\n",
    "#Distancia entre planetas\n",
    "distancia = planetaJupiter - planetaTierra\n",
    "print('La distancia entre la Tierra y Júpiter es: ', distancia, 'km, o ', distancia*0.621, 'millas en el sistema americano.')"
   ]
  },
  {
   "cell_type": "code",
   "execution_count": 2,
   "metadata": {},
   "outputs": [
    {
     "name": "stdout",
     "output_type": "stream",
     "text": [
      "*********CALCULO DE DISTANCIA ENTRE PLANETAS**********\n",
      "La distancia entre los planetas en el sistemas internacional es: 5772191254378 Km\n",
      "En el sistema americano, la distancia entre los planetas es:  3584530768968.738 Millas\n"
     ]
    }
   ],
   "source": [
    "#Ejercicio 2. Conversión de cadenas a enteros y uso de valor absoluto\n",
    "\n",
    "#Entrada de datos del usuario\n",
    "planetUno = input('Introduzca la distancia del primer planeta respecto al sol: ')\n",
    "planetDos = input('Introduzca la distancia del sefundo planeta respecto al sol: ')\n",
    "\n",
    "#Cadena a entero\n",
    "planetUno = int (planetUno)\n",
    "planetDos = int (planetDos)\n",
    "\n",
    "#Calculo de distancia\n",
    "distanciaKm = abs(planetUno - planetDos)\n",
    "print('*********CALCULO DE DISTANCIA ENTRE PLANETAS**********')\n",
    "print('La distancia entre los planetas en el sistemas internacional es:', distanciaKm, 'Km')\n",
    "\n",
    "#Conversión Km a millas\n",
    "distanciaMillas = distanciaKm * 0.621\n",
    "print('En el sistema americano, la distancia entre los planetas es: ',distanciaMillas, 'Millas')"
   ]
  }
 ],
 "metadata": {
  "interpreter": {
   "hash": "5201d93b4a82a3c766e68988a6e9713323d3e750fa235383633dfba5706e0261"
  },
  "kernelspec": {
   "display_name": "Python 3.10.2 64-bit (windows store)",
   "language": "python",
   "name": "python3"
  },
  "language_info": {
   "codemirror_mode": {
    "name": "ipython",
    "version": 3
   },
   "file_extension": ".py",
   "mimetype": "text/x-python",
   "name": "python",
   "nbconvert_exporter": "python",
   "pygments_lexer": "ipython3",
   "version": "3.10.2"
  },
  "orig_nbformat": 4
 },
 "nbformat": 4,
 "nbformat_minor": 2
}
