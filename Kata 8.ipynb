{
 "cells": [
  {
   "cell_type": "markdown",
   "metadata": {},
   "source": [
    "KATA 8.\n"
   ]
  },
  {
   "cell_type": "code",
   "execution_count": 3,
   "metadata": {},
   "outputs": [
    {
     "name": "stdout",
     "output_type": "stream",
     "text": [
      "Marte tiene 42 lunas\n",
      "Marte tienen una circunferencia polar de 6752 km\n"
     ]
    }
   ],
   "source": [
    "#Ejercicio 1. Diccionario\n",
    "planeta = {\n",
    "    'nombre':'Marte',\n",
    "    'lunas': 42\n",
    "}\n",
    "\n",
    "print(f'{planeta[\"nombre\"]} tiene {planeta[\"lunas\"]} lunas')\n",
    "\n",
    "planeta [\"circunferencia (km)\"] = {\n",
    "    'polar': 6752,\n",
    "    'equatorial':6792\n",
    "}\n",
    "\n",
    "print(f'{planeta[\"nombre\"]} tienen una circunferencia polar de {planeta[\"circunferencia (km)\"][\"polar\"]} km')"
   ]
  },
  {
   "cell_type": "code",
   "execution_count": 4,
   "metadata": {},
   "outputs": [
    {
     "name": "stdout",
     "output_type": "stream",
     "text": [
      "El número promedio de lunas por planeta es:  17.833333333333332\n"
     ]
    }
   ],
   "source": [
    "#Ejercicio 2. Programación dinamica\n",
    "\n",
    "lunasPlanetas = {\n",
    "    'mercury': 0,\n",
    "    'venus': 0,\n",
    "    'earth': 1,\n",
    "    'mars': 2,\n",
    "    'jupiter': 79,\n",
    "    'saturn': 82,\n",
    "    'uranus': 27,\n",
    "    'neptune': 14,\n",
    "    'pluto': 5,\n",
    "    'haumea': 2,\n",
    "    'makemake': 1,\n",
    "    'eris': 1\n",
    "}\n",
    "\n",
    "#Obtenemos los valores y las keys\n",
    "lunas = lunasPlanetas.values()\n",
    "planetas = len(lunasPlanetas.keys())\n",
    "\n",
    "#Obtenemos el total de lunas\n",
    "lunasTotal = 0\n",
    "for i in lunas:\n",
    "    lunasTotal = lunasTotal + i\n",
    "\n",
    "#Calculamos el promedio de lunas \n",
    "promedio = lunasTotal / planetas\n",
    "print('El número promedio de lunas por planeta es: ', promedio)\n",
    "\n",
    "\n",
    "\n"
   ]
  }
 ],
 "metadata": {
  "interpreter": {
   "hash": "5201d93b4a82a3c766e68988a6e9713323d3e750fa235383633dfba5706e0261"
  },
  "kernelspec": {
   "display_name": "Python 3.10.2 64-bit (windows store)",
   "language": "python",
   "name": "python3"
  },
  "language_info": {
   "codemirror_mode": {
    "name": "ipython",
    "version": 3
   },
   "file_extension": ".py",
   "mimetype": "text/x-python",
   "name": "python",
   "nbconvert_exporter": "python",
   "pygments_lexer": "ipython3",
   "version": "3.10.2"
  },
  "orig_nbformat": 4
 },
 "nbformat": 4,
 "nbformat_minor": 2
}
