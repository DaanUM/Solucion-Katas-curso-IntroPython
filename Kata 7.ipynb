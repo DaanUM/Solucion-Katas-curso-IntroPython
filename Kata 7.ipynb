{
 "cells": [
  {
   "cell_type": "markdown",
   "metadata": {},
   "source": [
    "KATA 7."
   ]
  },
  {
   "cell_type": "code",
   "execution_count": 1,
   "metadata": {},
   "outputs": [],
   "source": [
    "#Ejercicio 1. Ciclo While\n",
    "\n",
    "new_planet = ''\n",
    "planetas = []\n",
    "\n",
    "while new_planet.lower() != 'ok':\n",
    "    if new_planet:\n",
    "        planetas.append(new_planet)\n",
    "    new_planet = input('Agrega un planeta a la lista: ')"
   ]
  },
  {
   "cell_type": "code",
   "execution_count": 2,
   "metadata": {},
   "outputs": [
    {
     "name": "stdout",
     "output_type": "stream",
     "text": [
      "Mercurio \n",
      "Tierra\n",
      "Neptuno\n",
      "Saturno\n"
     ]
    }
   ],
   "source": [
    "#Ejercicio 2. Ciclo for\n",
    "\n",
    "for nave in planetas:\n",
    "    print(nave)"
   ]
  }
 ],
 "metadata": {
  "interpreter": {
   "hash": "5201d93b4a82a3c766e68988a6e9713323d3e750fa235383633dfba5706e0261"
  },
  "kernelspec": {
   "display_name": "Python 3.10.2 64-bit (windows store)",
   "language": "python",
   "name": "python3"
  },
  "language_info": {
   "codemirror_mode": {
    "name": "ipython",
    "version": 3
   },
   "file_extension": ".py",
   "mimetype": "text/x-python",
   "name": "python",
   "nbconvert_exporter": "python",
   "pygments_lexer": "ipython3",
   "version": "3.10.2"
  },
  "orig_nbformat": 4
 },
 "nbformat": 4,
 "nbformat_minor": 2
}
